{
 "cells": [
  {
   "cell_type": "code",
   "execution_count": 17,
   "metadata": {},
   "outputs": [],
   "source": [
    "import time\n",
    "import pickle\n",
    "\n",
    "import jax \n",
    "from jax import numpy as jnp \n",
    "jax.config.update('jax_platform_name', 'cpu')\n",
    "from mctx import gumbel_muzero_policy\n",
    "\n",
    "import muax\n",
    "from muax import nn \n",
    "\n",
    "from envs import ClanClassicEnv\n",
    "import cv2\n",
    "import numpy as np\n"
   ]
  },
  {
   "cell_type": "code",
   "execution_count": 18,
   "metadata": {},
   "outputs": [],
   "source": [
    "class Buffer():\n",
    "    def __init__(self):\n",
    "        self.games_rgb = []\n",
    "        self.games_actions = []\n",
    "        self.games_results = []\n",
    "        \n",
    "    def add_game(self, rgb_frames, actions, result):\n",
    "        self.games_rgb.append(rgb_frames)\n",
    "        self.games_actions.append(actions)\n",
    "        self.games_results.append(result)\n",
    "\n",
    "    def buffer_full(self):\n",
    "        return len(self.games_results) == 64\n",
    "    \n",
    "\n",
    "rng_key = jax.random.PRNGKey(42)\n",
    "\n",
    "embedding_size = 128\n",
    "num_actions = 2305\n",
    "support_size = 2305\n",
    "full_support_size = 4611\n",
    "discount = 0.99\n",
    "num_simulations = 1\n",
    "output_init_scale = 1.0\n",
    "\n",
    "num_trajectory = 32\n",
    "sample_per_trajectory = 1\n",
    "k_steps = 10\n",
    "\n",
    "repr_fn = nn._init_ez_representation_func(nn.EZRepresentation, embedding_size)\n",
    "pred_fn = nn._init_ez_prediction_func(nn.EZPrediction, num_actions, full_support_size, output_init_scale)\n",
    "dy_fn = nn._init_ez_dynamic_func(nn.EZDynamic, embedding_size, num_actions, full_support_size, output_init_scale)\n",
    "\n"
   ]
  },
  {
   "cell_type": "code",
   "execution_count": 19,
   "metadata": {},
   "outputs": [],
   "source": [
    "\n",
    "gradient_transform = muax.model.optimizer(init_value=0.02, peak_value=0.02, end_value=0.002, warmup_steps=5000, transition_steps=5000)\n",
    "\n",
    "model = muax.MuZero(repr_fn, pred_fn, dy_fn, policy='muzero', discount=discount,\n",
    "                    optimizer=gradient_transform, support_size=support_size)\n",
    "\n",
    "sample_input = jnp.expand_dims(jnp.zeros((240, 135, 3)), axis=0)\n",
    "#sample_input = cv2.resize(sample_input, dsize=(400, 225), interpolation=cv2.INTER_CUBIC)\n",
    "rng_key, subkey = jax.random.split(rng_key)\n",
    "model.init(subkey, sample_input)\n",
    "\n",
    "\n",
    "buffer = Buffer()\n"
   ]
  },
  {
   "cell_type": "code",
   "execution_count": 11,
   "metadata": {},
   "outputs": [
    {
     "name": "stdout",
     "output_type": "stream",
     "text": [
      "Client Initialized.\n"
     ]
    }
   ],
   "source": [
    "\n",
    "while True: \n",
    "    try:\n",
    "        env = ClanClassicEnv(serial=\"RFCWC04A2VY\", host=True)\n",
    "        break\n",
    "    except:\n",
    "        time.sleep(1)\n"
   ]
  },
  {
   "cell_type": "code",
   "execution_count": null,
   "metadata": {},
   "outputs": [],
   "source": [
    "for i in range(64):\n",
    "    rgb_frames = []\n",
    "    actions = []\n",
    "    #env.reset()\n",
    "    print(f\"Game {i} began.\")\n",
    "    while True: #env.in_game():\n",
    "        obs = env.get_observation()\n",
    "        obs = cv2.resize(obs, dsize=(135, 240), interpolation=cv2.INTER_CUBIC)\n",
    "        rng_key, subkey = jax.random.split(rng_key)\n",
    "        a, pi, v = model.act(subkey, obs, \n",
    "                        with_pi=True, \n",
    "                        with_value=True, \n",
    "                        obs_from_batch=False,\n",
    "                        num_simulations=num_simulations,\n",
    "                        temperature=1.0)\n",
    "        print(a)\n"
   ]
  },
  {
   "cell_type": "code",
   "execution_count": 21,
   "metadata": {},
   "outputs": [
    {
     "name": "stdout",
     "output_type": "stream",
     "text": [
      "Loss: 12.700068473815918\n",
      "Loss: 11.437064170837402\n",
      "Loss: 10.445414543151855\n",
      "Loss: 9.770403861999512\n",
      "Loss: 9.374824523925781\n",
      "Loss: 9.19653034210205\n",
      "Loss: 9.12408447265625\n",
      "Loss: 9.059216499328613\n",
      "Loss: 9.00328254699707\n",
      "Loss: 8.968838691711426\n",
      "Loss: 8.93356704711914\n",
      "Loss: 8.887943267822266\n",
      "Loss: 8.853827476501465\n",
      "Loss: 8.825200080871582\n",
      "Loss: 8.789388656616211\n",
      "Loss: 8.752554893493652\n",
      "Loss: 8.72392749786377\n",
      "Loss: 8.693243026733398\n",
      "Loss: 8.659235000610352\n",
      "Loss: 8.638696670532227\n",
      "Loss: 8.617006301879883\n",
      "Loss: 8.585643768310547\n",
      "Loss: 8.551481246948242\n",
      "Loss: 8.546408653259277\n",
      "Loss: 8.526519775390625\n",
      "Loss: 8.509419441223145\n",
      "Loss: 8.492897987365723\n",
      "Loss: 8.478777885437012\n",
      "Loss: 8.460850715637207\n",
      "Loss: 8.442511558532715\n",
      "Loss: 8.439632415771484\n",
      "Loss: 8.429237365722656\n",
      "Loss: 8.418272018432617\n",
      "Loss: 8.400196075439453\n",
      "Loss: 8.40036392211914\n",
      "Loss: 8.394373893737793\n",
      "Loss: 8.386743545532227\n",
      "Loss: 8.38058090209961\n",
      "Loss: 8.372041702270508\n",
      "Loss: 8.363141059875488\n",
      "Loss: 8.364082336425781\n",
      "Loss: 8.356446266174316\n",
      "Loss: 8.346402168273926\n",
      "Loss: 8.342670440673828\n",
      "Loss: 8.340357780456543\n",
      "Loss: 8.343273162841797\n",
      "Loss: 8.34005069732666\n",
      "Loss: 8.336901664733887\n",
      "Loss: 8.334386825561523\n",
      "Loss: 8.331663131713867\n",
      "epoch: 0000, loss: 8.78939293\n"
     ]
    }
   ],
   "source": [
    "import pickle\n",
    "import muax\n",
    "\n",
    "#model.load('networks/initial_model_uniform_v0.2.npy')\n",
    "\n",
    "with open('buffers/game_buffer_S1_uniform_0403-0856_H.pkl', 'rb') as file_handle: \n",
    "  buffer = pickle.load(file_handle)\n",
    "\n",
    "train_loss = 0\n",
    "for ep in range(1):\n",
    "  for _ in range(50):\n",
    "    transition_batch = buffer.sample(num_trajectory=32,\n",
    "                                      sample_per_trajectory=sample_per_trajectory,\n",
    "                                      k_steps=k_steps)\n",
    "    loss_metric = model.update(transition_batch)\n",
    "    train_loss += loss_metric['loss']\n",
    "    print(f\"Loss: {loss_metric['loss']}\")\n",
    "\n",
    "  train_loss /= 50\n",
    "  print(f'epoch: {ep:04d}, loss: {train_loss:.8f}')\n"
   ]
  },
  {
   "cell_type": "code",
   "execution_count": 14,
   "metadata": {},
   "outputs": [],
   "source": [
    "model.save('initial_model_uniform_v0.2.npy')\n"
   ]
  }
 ],
 "metadata": {
  "kernelspec": {
   "display_name": ".venv",
   "language": "python",
   "name": "python3"
  },
  "language_info": {
   "codemirror_mode": {
    "name": "ipython",
    "version": 3
   },
   "file_extension": ".py",
   "mimetype": "text/x-python",
   "name": "python",
   "nbconvert_exporter": "python",
   "pygments_lexer": "ipython3",
   "version": "3.9.0"
  }
 },
 "nbformat": 4,
 "nbformat_minor": 2
}
